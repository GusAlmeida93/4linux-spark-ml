{
  "nbformat": 4,
  "nbformat_minor": 0,
  "metadata": {
    "kernelspec": {
      "display_name": "Python 3",
      "language": "python",
      "name": "python3"
    },
    "language_info": {
      "codemirror_mode": {
        "name": "ipython",
        "version": 3
      },
      "file_extension": ".py",
      "mimetype": "text/x-python",
      "name": "python",
      "nbconvert_exporter": "python",
      "pygments_lexer": "ipython3",
      "version": "3.7.3"
    },
    "colab": {
      "name": "Solucao.ipynb",
      "provenance": [],
      "collapsed_sections": []
    }
  },
  "cells": [
    {
      "cell_type": "code",
      "metadata": {
        "id": "P8ezD2sQ_6dj"
      },
      "source": [
        "!apt-get update\n",
        "!apt-get install openjdk-8-jdk-headless -qq > /dev/null\n",
        "import os\n",
        "os.environ[\"JAVA_HOME\"] = \"/usr/lib/jvm/java-8-openjdk-amd64\"\n",
        "!update-alternatives --set java /usr/lib/jvm/java-8-openjdk-amd64/jre/bin/java\n",
        "!java -version"
      ],
      "execution_count": null,
      "outputs": []
    },
    {
      "cell_type": "code",
      "metadata": {
        "id": "CXKTTk2TAM0j"
      },
      "source": [
        "!pip install pyspark"
      ],
      "execution_count": null,
      "outputs": []
    },
    {
      "cell_type": "code",
      "metadata": {
        "id": "9oN8jVwb_9Ex"
      },
      "source": [
        "!git clone https://github.com/leonardoamorim/aulapython.git"
      ],
      "execution_count": null,
      "outputs": []
    },
    {
      "cell_type": "code",
      "metadata": {
        "id": "BpJdXUlDstzG"
      },
      "source": [
        "! ls aulapython"
      ],
      "execution_count": null,
      "outputs": []
    },
    {
      "cell_type": "code",
      "metadata": {
        "id": "c70A4zb9At6Q"
      },
      "source": [
        "! gunzip aulapython/NASA_access_log_Jul95.gz\n",
        "! gunzip aulapython/NASA_access_log_Aug95.gz"
      ],
      "execution_count": null,
      "outputs": []
    },
    {
      "cell_type": "code",
      "metadata": {
        "id": "5ipe6QVNzpyO"
      },
      "source": [
        "! du -h aulapython/NASA_access_log_Jul95"
      ],
      "execution_count": null,
      "outputs": []
    },
    {
      "cell_type": "code",
      "metadata": {
        "id": "_RuTAJwGzu4y"
      },
      "source": [
        "! du -h aulapython/NASA_access_log_Aug95"
      ],
      "execution_count": null,
      "outputs": []
    },
    {
      "cell_type": "code",
      "metadata": {
        "id": "XgCjLCnhz0LX"
      },
      "source": [
        "! wc -l aulapython/NASA_access_log_Jul95\n",
        "! wc -l aulapython/NASA_access_log_Aug95"
      ],
      "execution_count": null,
      "outputs": []
    },
    {
      "cell_type": "code",
      "metadata": {
        "id": "YhycVjUH_2Jn"
      },
      "source": [
        "from pyspark import SparkConf, SparkContext\n",
        "from operator import add"
      ],
      "execution_count": null,
      "outputs": []
    },
    {
      "cell_type": "code",
      "metadata": {
        "id": "xkGm-m9-_2Jt"
      },
      "source": [
        "configuracao = (SparkConf().setMaster(\"local\").setAppName(\"Exercicio\")\n",
        "                .set(\"spark.executor.memory\", \"5g\"))"
      ],
      "execution_count": null,
      "outputs": []
    },
    {
      "cell_type": "code",
      "metadata": {
        "id": "tV4WqN2m_2Jx"
      },
      "source": [
        "sc = SparkContext(conf = configuracao)"
      ],
      "execution_count": null,
      "outputs": []
    },
    {
      "cell_type": "code",
      "metadata": {
        "id": "CMwWh0R-_2J0"
      },
      "source": [
        "julho = sc.textFile('aulapython/NASA_access_log_Jul95')\n",
        "agosto = sc.textFile('aulapython/NASA_access_log_Aug95')"
      ],
      "execution_count": null,
      "outputs": []
    },
    {
      "cell_type": "code",
      "metadata": {
        "id": "xTiLV-Ci_2J4"
      },
      "source": [
        "julho = julho.cache()\n",
        "agosto = agosto.cache()"
      ],
      "execution_count": null,
      "outputs": []
    },
    {
      "cell_type": "code",
      "metadata": {
        "id": "7vO2UjvnQSqo"
      },
      "source": [
        "! head -n3 aulapython/NASA_access_log_Jul95"
      ],
      "execution_count": null,
      "outputs": []
    },
    {
      "cell_type": "code",
      "metadata": {
        "id": "q2u4Zij7RbNN"
      },
      "source": [
        "exemplo = '199.72.81.55 - - [01/Jul/1995:00:00:01 -0400] \"GET /history/apollo/ HTTP/1.0\" 200 6245'"
      ],
      "execution_count": null,
      "outputs": []
    },
    {
      "cell_type": "code",
      "metadata": {
        "id": "zWL_H_9BRkh5"
      },
      "source": [
        "operacao = exemplo.split()"
      ],
      "execution_count": null,
      "outputs": []
    },
    {
      "cell_type": "code",
      "metadata": {
        "id": "61tws2hIkhbE"
      },
      "source": [
        "print(operacao)"
      ],
      "execution_count": null,
      "outputs": []
    },
    {
      "cell_type": "code",
      "metadata": {
        "id": "TjwRkHWLRqQv"
      },
      "source": [
        "print(operacao[-1])"
      ],
      "execution_count": null,
      "outputs": []
    },
    {
      "cell_type": "code",
      "metadata": {
        "id": "RwRsj1l4_2J7"
      },
      "source": [
        "# Numero de hosts distintos no mes de Julho\n",
        "contagem_julho = julho.map(lambda line: line.split(' ')[0]).distinct().count()\n",
        "print(\"Numero de hosts distintos no mes de Julho:\", contagem_julho)"
      ],
      "execution_count": null,
      "outputs": []
    },
    {
      "cell_type": "code",
      "metadata": {
        "id": "bUdYg4_w_2KA"
      },
      "source": [
        "# Numero de hosts distintos no mes de Agosto\n",
        "contagem_agosto = agosto.map(lambda line: line.split(' ')[0]).distinct().count()\n",
        "print(\"Numero de hosts distintos no mes de Agosto:\", contagem_agosto)"
      ],
      "execution_count": null,
      "outputs": []
    },
    {
      "cell_type": "code",
      "metadata": {
        "id": "P_TWXj75_2KD"
      },
      "source": [
        "# Funcao para verificar se em uma linha existe um codigohttp igual a 404\n",
        "def codigo404(linha):\n",
        "    try:\n",
        "        codigohttp = linha.split(' ')[-2]\n",
        "        if codigohttp == '404':\n",
        "            return True\n",
        "    except:\n",
        "        pass\n",
        "    return False"
      ],
      "execution_count": null,
      "outputs": []
    },
    {
      "cell_type": "code",
      "metadata": {
        "id": "UvyZPFMs_2KH"
      },
      "source": [
        "erros404_julho = julho.filter(codigo404).cache()\n",
        "erros404_agosto = agosto.filter(lambda linha: linha.split(' ')[-2] == '404').cache()"
      ],
      "execution_count": null,
      "outputs": []
    },
    {
      "cell_type": "code",
      "metadata": {
        "id": "CiKFJc8M_2KK"
      },
      "source": [
        "print('Erros 404 em Julho: %s' % erros404_julho.count())"
      ],
      "execution_count": null,
      "outputs": []
    },
    {
      "cell_type": "code",
      "metadata": {
        "id": "dcYfxnAw_2KN"
      },
      "source": [
        "print('Erros 404 em Agosto: %s' % erros404_agosto.count())"
      ],
      "execution_count": null,
      "outputs": []
    },
    {
      "cell_type": "code",
      "metadata": {
        "id": "DfWTnizXTufy"
      },
      "source": [
        "print(exemplo)"
      ],
      "execution_count": null,
      "outputs": []
    },
    {
      "cell_type": "code",
      "metadata": {
        "id": "tKLaZtYz4Yx9"
      },
      "source": [
        "print(exemplo.split('\"'))"
      ],
      "execution_count": null,
      "outputs": []
    },
    {
      "cell_type": "code",
      "metadata": {
        "id": "QFx7LxX2Tyee"
      },
      "source": [
        "print(exemplo.split('\"')[1].split(' ')[1])"
      ],
      "execution_count": null,
      "outputs": []
    },
    {
      "cell_type": "code",
      "metadata": {
        "id": "tGIUjTWA_2KR"
      },
      "source": [
        "# Funcao para retornar os top5 urls com mais erros 404\n",
        "def top5_hosts404(rdd):\n",
        "    urls = rdd.map(lambda linha: linha.split('\"')[1].split(' ')[1])\n",
        "    counts = urls.map(lambda urls: (urls, 1)).reduceByKey(add)\n",
        "    top5 = counts.sortBy(lambda par: -par[1]).take(5)\n",
        "    \n",
        "   # print('\\nTop 5 urls:')\n",
        "   # for urls, count in top5:\n",
        "   #     print(urls, count)\n",
        "        \n",
        "    return top5"
      ],
      "execution_count": null,
      "outputs": []
    },
    {
      "cell_type": "code",
      "metadata": {
        "id": "jrBPH5fr_2KU"
      },
      "source": [
        "top5_hosts404(erros404_julho)"
      ],
      "execution_count": null,
      "outputs": []
    },
    {
      "cell_type": "code",
      "metadata": {
        "id": "9K4rAV3h_2KX"
      },
      "source": [
        "top5_hosts404(erros404_agosto)"
      ],
      "execution_count": null,
      "outputs": []
    },
    {
      "cell_type": "code",
      "metadata": {
        "id": "KairSLrXomCt"
      },
      "source": [
        "print(exemplo)"
      ],
      "execution_count": null,
      "outputs": []
    },
    {
      "cell_type": "code",
      "metadata": {
        "id": "sdHHJNpy9Hb6"
      },
      "source": [
        "print(exemplo.split('[')[1])"
      ],
      "execution_count": null,
      "outputs": []
    },
    {
      "cell_type": "code",
      "metadata": {
        "id": "Pz3VVyaJW2ld"
      },
      "source": [
        "print(exemplo.split('[')[1].split(':')[0])"
      ],
      "execution_count": null,
      "outputs": []
    },
    {
      "cell_type": "code",
      "metadata": {
        "id": "smzCW6c9_2Kb"
      },
      "source": [
        "# Quantidade de erros 404 por dia\n",
        "def contador_dias_404(rdd):\n",
        "    dias = rdd.map(lambda linha: linha.split('[')[1].split(':')[0])\n",
        "    counts = dias.map(lambda dia: (dia, 1)).reduceByKey(add).collect()\n",
        "    return counts"
      ],
      "execution_count": null,
      "outputs": []
    },
    {
      "cell_type": "code",
      "metadata": {
        "id": "Wd2GgD4k_2Ke"
      },
      "source": [
        "contador_dias_404(erros404_julho)"
      ],
      "execution_count": null,
      "outputs": []
    },
    {
      "cell_type": "code",
      "metadata": {
        "id": "PuPmKlSx_2Kh"
      },
      "source": [
        "contador_dias_404(erros404_agosto)"
      ],
      "execution_count": null,
      "outputs": []
    },
    {
      "cell_type": "code",
      "metadata": {
        "id": "--vnX7zJ_2Kl"
      },
      "source": [
        "# Quantidade de bytes acumulados \n",
        "def quantidade_bytes_acumulados(rdd):\n",
        "    def contador(linha):\n",
        "        try:\n",
        "            count = int(linha.split(\" \")[-1])\n",
        "            if count < 0:\n",
        "                raise ValueError()\n",
        "            return count\n",
        "        except:\n",
        "            return 0\n",
        "        \n",
        "    count = rdd.map(contador).reduce(add)\n",
        "    return count"
      ],
      "execution_count": null,
      "outputs": []
    },
    {
      "cell_type": "code",
      "metadata": {
        "id": "1P-nABmJ_2Ko"
      },
      "source": [
        "print('Quantidade de bytes total em Julho: %s' % quantidade_bytes_acumulados(julho))"
      ],
      "execution_count": null,
      "outputs": []
    },
    {
      "cell_type": "code",
      "metadata": {
        "id": "U7pqpoPZ_2Kr"
      },
      "source": [
        "print('Quantidade de bytes total em Agosto: %s' % quantidade_bytes_acumulados(agosto))"
      ],
      "execution_count": null,
      "outputs": []
    },
    {
      "cell_type": "code",
      "metadata": {
        "id": "imySXJev_2Kw"
      },
      "source": [
        "sc.stop()"
      ],
      "execution_count": null,
      "outputs": []
    }
  ]
}